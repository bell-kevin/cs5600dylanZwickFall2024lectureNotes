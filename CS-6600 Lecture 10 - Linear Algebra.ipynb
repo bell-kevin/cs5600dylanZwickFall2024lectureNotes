{
  "nbformat": 4,
  "nbformat_minor": 0,
  "metadata": {
    "colab": {
      "provenance": []
    },
    "kernelspec": {
      "name": "python3",
      "display_name": "Python 3"
    },
    "language_info": {
      "name": "python"
    }
  },
  "cells": [
    {
      "cell_type": "markdown",
      "source": [
        "# CS-5600/6600 Lecture 10 - Linear Algebra\n",
        "\n",
        "**Instructor: Dylan Zwick**\n",
        "\n",
        "*Weber State University*\n",
        "\n",
        "Reference: [Hands-On Machine Learning with Scikit-Learn, Keras & TensorFlow](https://www.oreilly.com/library/view/hands-on-machine-learning/9781098125967/) by Aurélien Géron"
      ],
      "metadata": {
        "id": "0iETW1Mm9rv7"
      }
    },
    {
      "cell_type": "markdown",
      "source": [
        "<center>\n",
        "      <img src=\"https://imgs.xkcd.com/comics/machine_learning.png\">\n",
        "</center>\n",
        "\n",
        "[https://imgs.xkcd.com/comics/machine_learning.png]"
      ],
      "metadata": {
        "id": "iB2oV-KCS60L"
      }
    },
    {
      "cell_type": "code",
      "source": [
        "import numpy as np\n",
        "import pandas as pd\n",
        "import matplotlib.pyplot as plt\n",
        "\n",
        "import numpy.linalg as LA"
      ],
      "metadata": {
        "id": "FD6jSCkKNLSb"
      },
      "execution_count": null,
      "outputs": []
    },
    {
      "cell_type": "markdown",
      "metadata": {
        "id": "Vej9hBRg5Eba"
      },
      "source": [
        "# Vectors\n",
        "## Definition\n",
        "A vector is a quantity defined by a magnitude and a direction. For example, a rocket's velocity is a 3-dimensional vector: its magnitude is the speed of the rocket, and its direction is (hopefully) up. A vector can be represented by an array of numbers called *scalars*. Each scalar corresponds to the magnitude of the vector with regards to each dimension.\n",
        "\n",
        "For example, say the rocket is going up at a slight angle: it has a vertical speed of 5,000 m/s, and also a slight speed towards the East at 10 m/s, and a slight speed towards the North at 50 m/s. The rocket's velocity may be represented by the following vector:\n",
        "\n",
        "**velocity** $= \\begin{pmatrix}\n",
        "10 \\\\\n",
        "50 \\\\\n",
        "5000 \\\\\n",
        "\\end{pmatrix}$\n",
        "\n",
        "Note: by convention vectors are generally presented in the form of columns. Also, vector names are generally lowercase to distinguish them from matrices (which we will discuss below) and in bold (when possible) to distinguish them from simple scalar values such as ${meters\\_per\\_second} = 5026$.\n",
        "\n",
        "A list of N numbers may also represent the coordinates of a point in an N-dimensional space, so it is quite frequent to represent vectors as simple points instead of arrows. A vector with 1 element may be represented as an arrow or a point on an axis, a vector with 2 elements is an arrow or a point on a plane, a vector with 3 elements is an arrow or point in space, and a vector with N elements is an arrow or a point in an N-dimensional space… which most people find hard to imagine.\n",
        "\n",
        "\n",
        "##  Purpose\n",
        "Vectors have many purposes in Machine Learning, most notably to represent observations and predictions. For example, say we built a Machine Learning system to classify videos into 3 categories (good, spam, clickbait) based on what we know about them. For each video, we would have a vector representing what we know about it, such as:\n",
        "\n",
        "**video** $= \\begin{pmatrix}\n",
        "10.5 \\\\\n",
        "5.2 \\\\\n",
        "3.25 \\\\\n",
        "7.0\n",
        "\\end{pmatrix}$\n",
        "\n",
        "This vector could represent a video that lasts 10.5 minutes, but only 5.2% viewers watch for more than a minute, it gets 3.25 views per day on average, and it was flagged 7 times as spam. As you can see, each axis may have a different meaning.\n",
        "\n",
        "Based on this vector our Machine Learning system may predict that there is an 80% probability that it is a spam video, 18% that it is clickbait, and 2% that it is a good video. This could be represented as the following vector:\n",
        "\n",
        "**class_probabilities** $= \\begin{pmatrix}\n",
        "0.80 \\\\\n",
        "0.18 \\\\\n",
        "0.02\n",
        "\\end{pmatrix}$"
      ]
    },
    {
      "cell_type": "markdown",
      "metadata": {
        "id": "wNMzJsY-5Ebb"
      },
      "source": [
        "## Vectors in python\n",
        "In python, a vector can be represented in many ways, the simplest being a regular python list of numbers:"
      ]
    },
    {
      "cell_type": "code",
      "execution_count": null,
      "metadata": {
        "id": "OH6ZYnUE5Ebc"
      },
      "outputs": [],
      "source": [
        "[10.5, 5.2, 3.25, 7.0]"
      ]
    },
    {
      "cell_type": "markdown",
      "metadata": {
        "id": "kxpTHUQ35Ebd"
      },
      "source": [
        "Since we plan to do quite a lot of scientific calculations, it is much better to use NumPy's `ndarray`, which provides a lot of convenient and optimized implementations of essential mathematical operations on vectors (for more details about NumPy, check out the [NumPy tutorial](tools_numpy.ipynb)). For example:"
      ]
    },
    {
      "cell_type": "code",
      "execution_count": null,
      "metadata": {
        "id": "J1lQ1INt5Ebd"
      },
      "outputs": [],
      "source": [
        "video = np.array([10.5, 5.2, 3.25, 7.0])\n",
        "video"
      ]
    },
    {
      "cell_type": "markdown",
      "metadata": {
        "id": "oEsnyqP95Ebe"
      },
      "source": [
        "The size of a vector can be obtained using the `size` attribute:"
      ]
    },
    {
      "cell_type": "code",
      "execution_count": null,
      "metadata": {
        "id": "jmY3LyY85Ebe"
      },
      "outputs": [],
      "source": [
        "video.size"
      ]
    },
    {
      "cell_type": "markdown",
      "metadata": {
        "id": "pSv2083N5Ebe"
      },
      "source": [
        "The $i^{th}$ element (also called *entry* or *item*) of a vector $\\textbf{v}$ is noted $\\textbf{v}_i$.\n",
        "\n",
        "Note that indices in mathematics generally start at 1, but in programming they usually start at 0. So to access $\\textbf{video}_3$ programmatically, we would write:"
      ]
    },
    {
      "cell_type": "code",
      "execution_count": null,
      "metadata": {
        "id": "8WebP31O5Ebf"
      },
      "outputs": [],
      "source": [
        "video[2]  # 3rd element"
      ]
    },
    {
      "cell_type": "markdown",
      "source": [
        "##Plotting Vectors"
      ],
      "metadata": {
        "id": "O71-l-iFNXLZ"
      }
    },
    {
      "cell_type": "markdown",
      "metadata": {
        "id": "c9F6VneP5Ebf"
      },
      "source": [
        "Let's create a couple very simple 2D vectors to plot:"
      ]
    },
    {
      "cell_type": "code",
      "execution_count": null,
      "metadata": {
        "collapsed": true,
        "id": "XsCWPnjo5Ebf"
      },
      "outputs": [],
      "source": [
        "u = np.array([2, 5])\n",
        "v = np.array([3, 1])"
      ]
    },
    {
      "cell_type": "markdown",
      "metadata": {
        "id": "0SMFfXYm5Ebf"
      },
      "source": [
        "These vectors each have 2 elements, so they can easily be represented graphically on a 2D graph, for example as points:"
      ]
    },
    {
      "cell_type": "code",
      "execution_count": null,
      "metadata": {
        "id": "TfQKJcQK5Ebf"
      },
      "outputs": [],
      "source": [
        "x_coords, y_coords = zip(u, v)\n",
        "plt.scatter(x_coords, y_coords, color=[\"r\",\"b\"])\n",
        "plt.axis([0, 9, 0, 6])\n",
        "plt.grid()\n",
        "plt.show()"
      ]
    },
    {
      "cell_type": "markdown",
      "metadata": {
        "id": "xMmefyoi5Ebg"
      },
      "source": [
        "Vectors can also be represented as arrows. Let's create a small convenience function to draw nice arrows:"
      ]
    },
    {
      "cell_type": "code",
      "execution_count": null,
      "metadata": {
        "collapsed": true,
        "id": "IwtazDLc5Ebg"
      },
      "outputs": [],
      "source": [
        "def plot_vector2d(vector2d, origin=[0, 0], **options):\n",
        "    return plt.arrow(origin[0], origin[1], vector2d[0], vector2d[1],\n",
        "              head_width=0.2, head_length=0.3, length_includes_head=True,\n",
        "              **options)"
      ]
    },
    {
      "cell_type": "markdown",
      "metadata": {
        "id": "GOX_-zI55Ebg"
      },
      "source": [
        "Now let's draw the vectors **u** and **v** as arrows:"
      ]
    },
    {
      "cell_type": "code",
      "execution_count": null,
      "metadata": {
        "id": "JO0CARVJ5Ebg"
      },
      "outputs": [],
      "source": [
        "plot_vector2d(u, color=\"r\")\n",
        "plot_vector2d(v, color=\"b\")\n",
        "plt.axis([0, 9, 0, 6])\n",
        "plt.grid()\n",
        "plt.show()"
      ]
    },
    {
      "cell_type": "markdown",
      "metadata": {
        "id": "dVaqpzeA5Ebg"
      },
      "source": [
        "## Norm\n",
        "The norm of a vector $\\textbf{u}$, noted $\\left \\Vert \\textbf{u} \\right \\|$, is a measure of the length (a.k.a. the magnitude) of $\\textbf{u}$. There are multiple possible norms, but the most common one (and the only one we will discuss here) is the Euclidian norm, which is defined as:\n",
        "\n",
        "$\\left \\Vert \\textbf{u} \\right \\| = \\sqrt{\\sum_{i}{\\textbf{u}_i}^2}$\n",
        "\n",
        "We could implement this easily in pure python, recalling that $\\sqrt x = x^{\\frac{1}{2}}$"
      ]
    },
    {
      "cell_type": "code",
      "execution_count": null,
      "metadata": {
        "id": "dNKuC7ly5Ebh"
      },
      "outputs": [],
      "source": [
        "def vector_norm(vector):\n",
        "    squares = [element**2 for element in vector]\n",
        "    return sum(squares)**0.5\n",
        "\n",
        "print(\"||\", u, \"|| =\")\n",
        "vector_norm(u)"
      ]
    },
    {
      "cell_type": "markdown",
      "metadata": {
        "id": "0QNaZJvg5Ebh"
      },
      "source": [
        "However, it is much more efficient to use NumPy's `norm` function, available in the `linalg` (**Lin**ear **Alg**ebra) module (imported above):"
      ]
    },
    {
      "cell_type": "code",
      "execution_count": null,
      "metadata": {
        "id": "7iuSe2yc5Ebh"
      },
      "outputs": [],
      "source": [
        "LA.norm(u)"
      ]
    },
    {
      "cell_type": "markdown",
      "metadata": {
        "id": "8TeUrsIJ5Ebh"
      },
      "source": [
        "Let's plot a little diagram to confirm that the length of vector $\\textbf{v}$ is indeed $\\approx5.4$:"
      ]
    },
    {
      "cell_type": "code",
      "execution_count": null,
      "metadata": {
        "id": "V4UGx3V05Ebh"
      },
      "outputs": [],
      "source": [
        "radius = LA.norm(u)\n",
        "plt.gca().add_artist(plt.Circle((0,0), radius, color=\"#DDDDDD\"))\n",
        "plot_vector2d(u, color=\"red\")\n",
        "plt.axis([0, 8.7, 0, 6])\n",
        "plt.grid()\n",
        "plt.show()"
      ]
    },
    {
      "cell_type": "markdown",
      "metadata": {
        "id": "n6njMO7d5Ebh"
      },
      "source": [
        "Looks about right!"
      ]
    },
    {
      "cell_type": "markdown",
      "metadata": {
        "id": "efWZZRK55Ebh"
      },
      "source": [
        "## Addition\n",
        "Vectors of same size can be added together. Addition is performed *elementwise*:"
      ]
    },
    {
      "cell_type": "code",
      "execution_count": null,
      "metadata": {
        "id": "oPdJgFm85Ebh"
      },
      "outputs": [],
      "source": [
        "print(\" \", u)\n",
        "print(\"+\", v)\n",
        "print(\"-\"*10)\n",
        "u + v"
      ]
    },
    {
      "cell_type": "markdown",
      "metadata": {
        "id": "sTJDn4mu5Ebh"
      },
      "source": [
        "Let's look at what vector addition looks like graphically:"
      ]
    },
    {
      "cell_type": "code",
      "execution_count": null,
      "metadata": {
        "scrolled": true,
        "id": "JTf81mt85Ebh"
      },
      "outputs": [],
      "source": [
        "plot_vector2d(u, color=\"r\")\n",
        "plot_vector2d(v, color=\"b\")\n",
        "plot_vector2d(v, origin=u, color=\"b\", linestyle=\"dotted\")\n",
        "plot_vector2d(u, origin=v, color=\"r\", linestyle=\"dotted\")\n",
        "plot_vector2d(u+v, color=\"g\")\n",
        "plt.axis([0, 9, 0, 7])\n",
        "plt.text(0.7, 3, \"u\", color=\"r\", fontsize=18)\n",
        "plt.text(4, 3, \"u\", color=\"r\", fontsize=18)\n",
        "plt.text(1.8, 0.2, \"v\", color=\"b\", fontsize=18)\n",
        "plt.text(3.1, 5.6, \"v\", color=\"b\", fontsize=18)\n",
        "plt.text(2.4, 2.5, \"u+v\", color=\"g\", fontsize=18)\n",
        "plt.grid()\n",
        "plt.show()"
      ]
    },
    {
      "cell_type": "markdown",
      "metadata": {
        "id": "a3aXZApt5Ebh"
      },
      "source": [
        "Vector addition is **commutative**, meaning that $\\textbf{u} + \\textbf{v} = \\textbf{v} + \\textbf{u}$. You can see it on the previous image: following $\\textbf{u}$ *then* $\\textbf{v}$ leads to the same point as following $\\textbf{v}$ *then* $\\textbf{u}$.\n",
        "\n",
        "Vector addition is also **associative**, meaning that $\\textbf{u} + (\\textbf{v} + \\textbf{w}) = (\\textbf{u} + \\textbf{v}) + \\textbf{w}$."
      ]
    },
    {
      "cell_type": "markdown",
      "metadata": {
        "id": "SyAqe8he5Ebi"
      },
      "source": [
        "If you have a shape defined by a number of points (vectors), and you add a vector $\\textbf{v}$ to all of these points, then the whole shape gets shifted by $\\textbf{v}$. This is called a [geometric translation](https://en.wikipedia.org/wiki/Translation_%28geometry%29):"
      ]
    },
    {
      "cell_type": "code",
      "execution_count": null,
      "metadata": {
        "id": "2PmpZFSv5Ebm"
      },
      "outputs": [],
      "source": [
        "t1 = np.array([2, 0.25])\n",
        "t2 = np.array([2.5, 3.5])\n",
        "t3 = np.array([1, 2])\n",
        "\n",
        "x_coords, y_coords = zip(t1, t2, t3, t1)\n",
        "plt.plot(x_coords, y_coords, \"c--\", x_coords, y_coords, \"co\")\n",
        "\n",
        "plot_vector2d(v, t1, color=\"r\", linestyle=\":\")\n",
        "plot_vector2d(v, t2, color=\"r\", linestyle=\":\")\n",
        "plot_vector2d(v, t3, color=\"r\", linestyle=\":\")\n",
        "\n",
        "t1b = t1 + v\n",
        "t2b = t2 + v\n",
        "t3b = t3 + v\n",
        "\n",
        "x_coords_b, y_coords_b = zip(t1b, t2b, t3b, t1b)\n",
        "plt.plot(x_coords_b, y_coords_b, \"b-\", x_coords_b, y_coords_b, \"bo\")\n",
        "\n",
        "plt.text(4, 4.2, \"v\", color=\"r\", fontsize=18)\n",
        "plt.text(3, 2.3, \"v\", color=\"r\", fontsize=18)\n",
        "plt.text(3.5, 0.4, \"v\", color=\"r\", fontsize=18)\n",
        "\n",
        "plt.axis([0, 6, 0, 5])\n",
        "plt.grid()\n",
        "plt.show()"
      ]
    },
    {
      "cell_type": "markdown",
      "metadata": {
        "id": "Ueww36OK5Ebn"
      },
      "source": [
        "Finally, substracting a vector is like adding the opposite vector."
      ]
    },
    {
      "cell_type": "markdown",
      "metadata": {
        "id": "CIPu57mF5Ebn"
      },
      "source": [
        "## Multiplication by a scalar\n",
        "Vectors can be multiplied by scalars. All elements in the vector are multiplied by that number, for example:"
      ]
    },
    {
      "cell_type": "code",
      "execution_count": null,
      "metadata": {
        "id": "mX2HDDby5Ebn"
      },
      "outputs": [],
      "source": [
        "print(\"1.5 *\", u, \"=\")\n",
        "\n",
        "1.5 * u"
      ]
    },
    {
      "cell_type": "markdown",
      "metadata": {
        "id": "FzAV2-V_5Ebn"
      },
      "source": [
        "Graphically, scalar multiplication results in changing the scale of a figure, hence the name *scalar*. The distance from the origin (the point at coordinates equal to zero) is also multiplied by the scalar. For example, let's scale up by a factor of `k = 2.5`:"
      ]
    },
    {
      "cell_type": "code",
      "execution_count": null,
      "metadata": {
        "id": "bKloWawz5Ebn"
      },
      "outputs": [],
      "source": [
        "k = 2.5\n",
        "t1c = k * t1\n",
        "t2c = k * t2\n",
        "t3c = k * t3\n",
        "\n",
        "plt.plot(x_coords, y_coords, \"c--\", x_coords, y_coords, \"co\")\n",
        "\n",
        "plot_vector2d(t1, color=\"r\")\n",
        "plot_vector2d(t2, color=\"r\")\n",
        "plot_vector2d(t3, color=\"r\")\n",
        "\n",
        "x_coords_c, y_coords_c = zip(t1c, t2c, t3c, t1c)\n",
        "plt.plot(x_coords_c, y_coords_c, \"b-\", x_coords_c, y_coords_c, \"bo\")\n",
        "\n",
        "plot_vector2d(k * t1, color=\"b\", linestyle=\":\")\n",
        "plot_vector2d(k * t2, color=\"b\", linestyle=\":\")\n",
        "plot_vector2d(k * t3, color=\"b\", linestyle=\":\")\n",
        "\n",
        "plt.axis([0, 9, 0, 9])\n",
        "plt.grid()\n",
        "plt.show()"
      ]
    },
    {
      "cell_type": "markdown",
      "metadata": {
        "id": "qNuqrgrC5Ebn"
      },
      "source": [
        "As you might guess, dividing a vector by a scalar is equivalent to multiplying by its multiplicative inverse (reciprocal):\n",
        "\n",
        "$\\dfrac{\\textbf{u}}{\\lambda} = \\dfrac{1}{\\lambda} \\times \\textbf{u}$"
      ]
    },
    {
      "cell_type": "markdown",
      "metadata": {
        "id": "cewWd8tZ5Ebn"
      },
      "source": [
        "Scalar multiplication is **commutative**: $\\lambda \\times \\textbf{u} = \\textbf{u} \\times \\lambda$.\n",
        "\n",
        "It is also **associative**: $\\lambda_1 \\times (\\lambda_2 \\times \\textbf{u}) = (\\lambda_1 \\times \\lambda_2) \\times \\textbf{u}$.\n",
        "\n",
        "Finally, it is **distributive** over addition of vectors: $\\lambda \\times (\\textbf{u} + \\textbf{v}) = \\lambda \\times \\textbf{u} + \\lambda \\times \\textbf{v}$."
      ]
    },
    {
      "cell_type": "markdown",
      "metadata": {
        "id": "4bXCV_o55Ebn"
      },
      "source": [
        "## Zero, unit and normalized vectors\n",
        "* A **zero-vector ** is a vector full of 0s.\n",
        "* A **unit vector** is a vector with a norm equal to 1.\n",
        "* The **normalized vector** of a non-null vector $\\textbf{u}$, noted $\\hat{\\textbf{u}}$, is the unit vector that points in the same direction as $\\textbf{u}$. It is equal to: $\\hat{\\textbf{u}} = \\dfrac{\\textbf{u}}{\\left \\Vert \\textbf{u} \\right \\|}$\n",
        "\n"
      ]
    },
    {
      "cell_type": "code",
      "execution_count": null,
      "metadata": {
        "id": "rSiP97Yb5Ebn"
      },
      "outputs": [],
      "source": [
        "plt.gca().add_artist(plt.Circle((0,0),1,color='c'))\n",
        "plt.plot(0, 0, \"ko\")\n",
        "plot_vector2d(v / LA.norm(v), color=\"k\")\n",
        "plot_vector2d(v, color=\"b\", linestyle=\":\")\n",
        "plt.text(0.3, 0.3, \"$\\hat{u}$\", color=\"k\", fontsize=18)\n",
        "plt.text(1.5, 0.7, \"$u$\", color=\"b\", fontsize=18)\n",
        "plt.axis([-1.5, 5.5, -1.5, 3.5])\n",
        "plt.grid()\n",
        "plt.show()"
      ]
    },
    {
      "cell_type": "markdown",
      "metadata": {
        "id": "4PxGUevk5Ebo"
      },
      "source": [
        "## Dot product\n",
        "### Definition\n",
        "The dot product (also called *scalar product* or *inner product* in the context of the Euclidian space) of two vectors $\\textbf{u}$ and $\\textbf{v}$ is a useful operation that comes up fairly often in linear algebra. It is noted $\\textbf{u} \\cdot \\textbf{v}$, or sometimes $⟨\\textbf{u}|\\textbf{v}⟩$ or $(\\textbf{u}|\\textbf{v})$, and it is defined as:\n",
        "\n",
        "$\\textbf{u} \\cdot \\textbf{v} = \\left \\Vert \\textbf{u} \\right \\| \\times \\left \\Vert \\textbf{v} \\right \\| \\times cos(\\theta)$\n",
        "\n",
        "where $\\theta$ is the angle between $\\textbf{u}$ and $\\textbf{v}$.\n",
        "\n",
        "Another way to calculate the dot product is:\n",
        "\n",
        "$\\textbf{u} \\cdot \\textbf{v} = \\sum_i{\\textbf{u}_i \\times \\textbf{v}_i}$\n",
        "\n",
        "### In python\n",
        "The dot product is pretty simple to implement:"
      ]
    },
    {
      "cell_type": "code",
      "execution_count": null,
      "metadata": {
        "id": "yicByYvR5Ebo"
      },
      "outputs": [],
      "source": [
        "def dot_product(v1, v2):\n",
        "    return sum(v1i * v2i for v1i, v2i in zip(v1, v2))\n",
        "\n",
        "dot_product(u, v)"
      ]
    },
    {
      "cell_type": "markdown",
      "metadata": {
        "id": "eW5ETTvU5Ebo"
      },
      "source": [
        "But a *much* more efficient implementation is provided by NumPy with the `dot` function:"
      ]
    },
    {
      "cell_type": "code",
      "execution_count": null,
      "metadata": {
        "id": "5pTDHWet5Ebo"
      },
      "outputs": [],
      "source": [
        "np.dot(u,v)"
      ]
    },
    {
      "cell_type": "markdown",
      "metadata": {
        "id": "OEwWmUhU5Ebo"
      },
      "source": [
        "Equivalently, you can use the `dot` method of `ndarray`s:"
      ]
    },
    {
      "cell_type": "code",
      "execution_count": null,
      "metadata": {
        "id": "pEbIgpTZ5Ebo"
      },
      "outputs": [],
      "source": [
        "u.dot(v)"
      ]
    },
    {
      "cell_type": "markdown",
      "metadata": {
        "id": "eNn4nfmT5Ebo"
      },
      "source": [
        "**Caution**: the `*` operator will perform an *elementwise* multiplication, *NOT* a dot product:"
      ]
    },
    {
      "cell_type": "code",
      "execution_count": null,
      "metadata": {
        "id": "fm-dNgvt5Ebo"
      },
      "outputs": [],
      "source": [
        "print(\"  \",u)\n",
        "print(\"* \",v, \"(NOT a dot product)\")\n",
        "print(\"-\"*10)\n",
        "\n",
        "u * v"
      ]
    },
    {
      "cell_type": "markdown",
      "metadata": {
        "id": "inAKCG1X5Ebo"
      },
      "source": [
        "### Main properties\n",
        "* The dot product is **commutative**: $\\textbf{u} \\cdot \\textbf{v} = \\textbf{v} \\cdot \\textbf{u}$.\n",
        "* The dot product is only defined between two vectors, not between a scalar and a vector. This means that we cannot chain dot products: for example, the expression $\\textbf{u} \\cdot \\textbf{v} \\cdot \\textbf{w}$ is not defined since $\\textbf{u} \\cdot \\textbf{v}$ is a scalar and $\\textbf{w}$ is a vector.\n",
        "* This also means that the dot product is **NOT associative**: $(\\textbf{u} \\cdot \\textbf{v}) \\cdot \\textbf{w} ≠ \\textbf{u} \\cdot (\\textbf{v} \\cdot \\textbf{w})$ since neither are defined.\n",
        "* However, the dot product is **associative with regards to scalar multiplication**: $\\lambda \\times (\\textbf{u} \\cdot \\textbf{v}) = (\\lambda \\times \\textbf{u}) \\cdot \\textbf{v} = \\textbf{u} \\cdot (\\lambda \\times \\textbf{v})$\n",
        "* Finally, the dot product is **distributive** over addition of vectors: $\\textbf{u} \\cdot (\\textbf{v} + \\textbf{w}) = \\textbf{u} \\cdot \\textbf{v} + \\textbf{u} \\cdot \\textbf{w}$."
      ]
    },
    {
      "cell_type": "markdown",
      "metadata": {
        "id": "RrpdHt-65Ebp"
      },
      "source": [
        "### Calculating the angle between vectors\n",
        "One of the many uses of the dot product is to calculate the angle between two non-zero vectors. Looking at the dot product definition, we can deduce the following formula:\n",
        "\n",
        "$\\theta = \\arccos{\\left ( \\dfrac{\\textbf{u} \\cdot \\textbf{v}}{\\left \\Vert \\textbf{u} \\right \\| \\times \\left \\Vert \\textbf{v} \\right \\|} \\right ) }$\n",
        "\n",
        "Note that if $\\textbf{u} \\cdot \\textbf{v} = 0$, it follows that $\\theta = \\dfrac{π}{2}$. In other words, if the dot product of two non-null vectors is zero, it means that they are orthogonal.\n",
        "\n",
        "Let's use this formula to calculate the angle between $\\textbf{u}$ and $\\textbf{v}$ (in radians):"
      ]
    },
    {
      "cell_type": "code",
      "execution_count": null,
      "metadata": {
        "id": "-wL4toiy5Ebp"
      },
      "outputs": [],
      "source": [
        "def vector_angle(u, v):\n",
        "    cos_theta = u.dot(v) / LA.norm(u) / LA.norm(v)\n",
        "    return np.arccos(np.clip(cos_theta, -1, 1))\n",
        "\n",
        "theta = vector_angle(u, v)\n",
        "print(\"Angle =\", theta, \"radians\")\n",
        "print(\"      =\", theta * 180 / np.pi, \"degrees\")"
      ]
    },
    {
      "cell_type": "markdown",
      "metadata": {
        "id": "8qWt7Hin5Ebp"
      },
      "source": [
        "Note: due to small floating point errors, `cos_theta` may be very slightly outside of the $[-1, 1]$ interval, which would make `arccos` fail. This is why we clipped the value within the range, using NumPy's `clip` function."
      ]
    },
    {
      "cell_type": "markdown",
      "metadata": {
        "id": "M1j9SfPi5Ebp"
      },
      "source": [
        "### Projecting a point onto an axis\n",
        "The dot product is also very useful to project points onto an axis. The projection of vector $\\textbf{v}$ onto $\\textbf{u}$'s axis is given by this formula:\n",
        "\n",
        "$\\textbf{proj}_{\\textbf{u}}{\\textbf{v}} = \\dfrac{\\textbf{u} \\cdot \\textbf{v}}{\\left \\Vert \\textbf{u} \\right \\| ^2} \\times \\textbf{u}$\n",
        "\n",
        "Which is equivalent to:\n",
        "\n",
        "$\\textbf{proj}_{\\textbf{u}}{\\textbf{v}} = (\\textbf{v} \\cdot \\hat{\\textbf{u}}) \\times \\hat{\\textbf{u}}$\n"
      ]
    },
    {
      "cell_type": "code",
      "execution_count": null,
      "metadata": {
        "id": "YPlVQhuY5Ebp"
      },
      "outputs": [],
      "source": [
        "u_normalized = u / LA.norm(u)\n",
        "proj = v.dot(u_normalized) * u_normalized\n",
        "\n",
        "plot_vector2d(u, color=\"r\")\n",
        "plot_vector2d(v, color=\"b\")\n",
        "\n",
        "plot_vector2d(proj, color=\"k\", linestyle=\":\")\n",
        "plt.plot(proj[0], proj[1], \"ko\")\n",
        "\n",
        "plt.plot([proj[0], v[0]], [proj[1], v[1]], \"b:\")\n",
        "\n",
        "plt.text(1, 2, \"$proj_u v$\", color=\"k\", fontsize=18)\n",
        "plt.text(1.8, 0.2, \"$v$\", color=\"b\", fontsize=18)\n",
        "plt.text(0.8, 3, \"$u$\", color=\"r\", fontsize=18)\n",
        "\n",
        "plt.axis([0, 8, 0, 5.5])\n",
        "plt.grid()\n",
        "plt.show()"
      ]
    },
    {
      "cell_type": "markdown",
      "metadata": {
        "id": "U9I4v-a55Ebp"
      },
      "source": [
        "# Matrices\n",
        "A matrix is a rectangular array of scalars (ie. any number: integer, real or complex) arranged in rows and columns, for example:\n",
        "\n",
        "\\begin{bmatrix} 10 & 20 & 30 \\\\ 40 & 50 & 60 \\end{bmatrix}\n",
        "\n",
        "You can also think of a matrix as a list of vectors: the previous matrix contains either 2 horizontal 3D vectors or 3 vertical 2D vectors.\n",
        "\n",
        "Matrices are convenient and very efficient to run operations on many vectors at a time. We will also see that they are great at representing and performing linear transformations such rotations, translations and scaling."
      ]
    },
    {
      "cell_type": "markdown",
      "metadata": {
        "id": "PuSlJRTl5Ebp"
      },
      "source": [
        "## Matrices in python\n",
        "In python, a matrix can be represented in various ways. The simplest is just a list of python lists:"
      ]
    },
    {
      "cell_type": "code",
      "execution_count": null,
      "metadata": {
        "id": "EPQZ7eWT5Ebp"
      },
      "outputs": [],
      "source": [
        "[\n",
        "    [10, 20, 30],\n",
        "    [40, 50, 60]\n",
        "]"
      ]
    },
    {
      "cell_type": "markdown",
      "metadata": {
        "id": "ZhD9Pk1D5Ebp"
      },
      "source": [
        "A much more efficient way is to use the NumPy library which provides optimized implementations of many matrix operations:"
      ]
    },
    {
      "cell_type": "code",
      "execution_count": null,
      "metadata": {
        "id": "WMCUzry65Ebp"
      },
      "outputs": [],
      "source": [
        "A = np.array([\n",
        "    [10,20,30],\n",
        "    [40,50,60]\n",
        "])\n",
        "A"
      ]
    },
    {
      "cell_type": "markdown",
      "metadata": {
        "id": "HLmb7GPD5Ebq"
      },
      "source": [
        "By convention matrices generally have uppercase names, such as $A$.\n",
        "\n",
        "In the rest of this tutorial, we will assume that we are using NumPy arrays (type `ndarray`) to represent matrices."
      ]
    },
    {
      "cell_type": "markdown",
      "metadata": {
        "id": "xYqAOMLj5Ebq"
      },
      "source": [
        "## Size\n",
        "The size of a matrix is defined by its number of rows and number of columns. It is noted $rows \\times columns$. For example, the matrix $A$ above is an example of a $2 \\times 3$ matrix: 2 rows, 3 columns. Caution: a $3 \\times 2$ matrix would have 3 rows and 2 columns.\n",
        "\n",
        "To get a matrix's size in NumPy:"
      ]
    },
    {
      "cell_type": "code",
      "execution_count": null,
      "metadata": {
        "id": "KzGiRxve5Ebq"
      },
      "outputs": [],
      "source": [
        "A.shape"
      ]
    },
    {
      "cell_type": "markdown",
      "metadata": {
        "id": "vvyK-gTw5Ebq"
      },
      "source": [
        "**Caution**: the `size` attribute represents the number of elements in the `ndarray`, not the matrix's size:"
      ]
    },
    {
      "cell_type": "code",
      "execution_count": null,
      "metadata": {
        "id": "UyF5aj1c5Ebq"
      },
      "outputs": [],
      "source": [
        "A.size"
      ]
    },
    {
      "cell_type": "markdown",
      "metadata": {
        "id": "k2FJip-u5Ebq"
      },
      "source": [
        "## Element indexing\n",
        "The number located in the $i^{th}$ row, and $j^{th}$ column of a matrix $X$ is sometimes noted $X_{i,j}$ or $X_{ij}$, but there is no standard notation, so people often prefer to explicitely name the elements, like this: \"*let $X = (x_{i,j})_{1 ≤ i ≤ m, 1 ≤ j ≤ n}$*\". This means that $X$ is equal to:\n",
        "\n",
        "$X = \\begin{bmatrix}\n",
        "  x_{1,1} & x_{1,2} & x_{1,3} & \\cdots & x_{1,n}\\\\\n",
        "  x_{2,1} & x_{2,2} & x_{2,3} & \\cdots & x_{2,n}\\\\\n",
        "  x_{3,1} & x_{3,2} & x_{3,3} & \\cdots & x_{3,n}\\\\\n",
        "  \\vdots & \\vdots & \\vdots & \\ddots & \\vdots \\\\\n",
        "  x_{m,1} & x_{m,2} & x_{m,3} & \\cdots & x_{m,n}\\\\\n",
        "\\end{bmatrix}$\n",
        "\n",
        "However in this notebook we will use the $X_{i,j}$ notation, as it matches fairly well NumPy's notation. Note that in math indices generally start at 1, but in programming they usually start at 0. So to access $A_{2,3}$ programmatically, we need to write this:"
      ]
    },
    {
      "cell_type": "code",
      "execution_count": null,
      "metadata": {
        "id": "OtxVZi0x5Ebq"
      },
      "outputs": [],
      "source": [
        "A[1,2]  # 2nd row, 3rd column"
      ]
    },
    {
      "cell_type": "markdown",
      "metadata": {
        "id": "3dGPF_oy5Ebq"
      },
      "source": [
        "The $i^{th}$ row vector is sometimes noted $M_i$ or $M_{i,*}$, but again there is no standard notation so people often prefer to explicitely define their own names, for example: \"*let **x**$_{i}$ be the $i^{th}$ row vector of matrix $X$*\". We will use the $M_{i,*}$, for the same reason as above. For example, to access $A_{2,*}$ (ie. $A$'s 2nd row vector):"
      ]
    },
    {
      "cell_type": "code",
      "execution_count": null,
      "metadata": {
        "id": "W1-uj8c85Ebq"
      },
      "outputs": [],
      "source": [
        "A[1, :]  # 2nd row vector (as a 1D array)"
      ]
    },
    {
      "cell_type": "markdown",
      "metadata": {
        "id": "0xy9lvuc5Ebr"
      },
      "source": [
        "Similarly, the $j^{th}$ column vector is sometimes noted $M^j$ or $M_{*,j}$, but there is no standard notation. We will use $M_{*,j}$. For example, to access $A_{*,3}$ (ie. $A$'s 3rd column vector):"
      ]
    },
    {
      "cell_type": "code",
      "execution_count": null,
      "metadata": {
        "id": "E5bFXfui5Ebr"
      },
      "outputs": [],
      "source": [
        "A[:, 2]  # 3rd column vector (as a 1D array)"
      ]
    },
    {
      "cell_type": "markdown",
      "metadata": {
        "id": "ABUChzmf5Ebr"
      },
      "source": [
        "Note that the result is actually a one-dimensional NumPy array: there is no such thing as a *vertical* or *horizontal* one-dimensional array. If you need to actually represent a row vector as a one-row matrix (ie. a 2D NumPy array), or a column vector as a one-column matrix, then you need to use a slice instead of an integer when accessing the row or column, for example:"
      ]
    },
    {
      "cell_type": "code",
      "execution_count": null,
      "metadata": {
        "id": "XmHz9cLh5Ebr"
      },
      "outputs": [],
      "source": [
        "A[1:2, :]  # rows 2 to 3 (excluded): this returns row 2 as a one-row matrix"
      ]
    },
    {
      "cell_type": "code",
      "execution_count": null,
      "metadata": {
        "id": "hubJwMvt5Ebr"
      },
      "outputs": [],
      "source": [
        "A[:, 2:3]  # columns 3 to 4 (excluded): this returns column 3 as a one-column matrix"
      ]
    },
    {
      "cell_type": "markdown",
      "metadata": {
        "id": "FCpgSASB5Ebr"
      },
      "source": [
        "## Square, triangular, diagonal and identity matrices\n",
        "A **square matrix** is a matrix that has the same number of rows and columns, for example a $3 \\times 3$ matrix:\n",
        "\n",
        "\\begin{bmatrix}\n",
        "  4 & 9 & 2 \\\\\n",
        "  3 & 5 & 7 \\\\\n",
        "  8 & 1 & 6\n",
        "\\end{bmatrix}"
      ]
    },
    {
      "cell_type": "markdown",
      "metadata": {
        "id": "PosD2Ako5Ebr"
      },
      "source": [
        "An **upper triangular matrix** is a special kind of square matrix where all the elements *below* the main diagonal (top-left to bottom-right) are zero, for example:\n",
        "\n",
        "\\begin{bmatrix}\n",
        "  4 & 9 & 2 \\\\\n",
        "  0 & 5 & 7 \\\\\n",
        "  0 & 0 & 6\n",
        "\\end{bmatrix}"
      ]
    },
    {
      "cell_type": "markdown",
      "metadata": {
        "id": "e6Yfdmk75Ebr"
      },
      "source": [
        "Similarly, a **lower triangular matrix** is a square matrix where all elements *above* the main diagonal are zero, for example:\n",
        "\n",
        "\\begin{bmatrix}\n",
        "  4 & 0 & 0 \\\\\n",
        "  3 & 5 & 0 \\\\\n",
        "  8 & 1 & 6\n",
        "\\end{bmatrix}"
      ]
    },
    {
      "cell_type": "markdown",
      "metadata": {
        "id": "ixx2jY575Ebr"
      },
      "source": [
        "A **triangular matrix** is one that is either lower triangular or upper triangular."
      ]
    },
    {
      "cell_type": "markdown",
      "metadata": {
        "id": "cmGz4J9a5Ebr"
      },
      "source": [
        "A matrix that is both upper and lower triangular is called a **diagonal matrix**, for example:\n",
        "\n",
        "\\begin{bmatrix}\n",
        "  4 & 0 & 0 \\\\\n",
        "  0 & 5 & 0 \\\\\n",
        "  0 & 0 & 6\n",
        "\\end{bmatrix}\n",
        "\n",
        "You can construct a diagonal matrix using NumPy's `diag` function:"
      ]
    },
    {
      "cell_type": "code",
      "execution_count": null,
      "metadata": {
        "id": "bXAyvvsF5Ebr"
      },
      "outputs": [],
      "source": [
        "np.diag([4, 5, 6])"
      ]
    },
    {
      "cell_type": "markdown",
      "metadata": {
        "id": "eZtdPXEz5Ebs"
      },
      "source": [
        "If you pass a matrix to the `diag` function, it will happily extract the diagonal values:"
      ]
    },
    {
      "cell_type": "code",
      "execution_count": null,
      "metadata": {
        "id": "8kUcZDli5Ebs"
      },
      "outputs": [],
      "source": [
        "D = np.array([\n",
        "        [1, 2, 3],\n",
        "        [4, 5, 6],\n",
        "        [7, 8, 9],\n",
        "    ])\n",
        "np.diag(D)"
      ]
    },
    {
      "cell_type": "markdown",
      "metadata": {
        "id": "UaSsrXFY5Ebs"
      },
      "source": [
        "Finally, the **identity matrix** of size $n$, noted $I_n$, is a diagonal matrix of size $n \\times n$ with $1$'s in the main diagonal, for example $I_3$:\n",
        "\n",
        "\\begin{bmatrix}\n",
        "  1 & 0 & 0 \\\\\n",
        "  0 & 1 & 0 \\\\\n",
        "  0 & 0 & 1\n",
        "\\end{bmatrix}\n",
        "\n",
        "Numpy's `eye` function returns the identity matrix of the desired size:"
      ]
    },
    {
      "cell_type": "code",
      "execution_count": null,
      "metadata": {
        "id": "XAoaI9Xg5Ebs"
      },
      "outputs": [],
      "source": [
        "np.eye(3)"
      ]
    },
    {
      "cell_type": "markdown",
      "metadata": {
        "id": "Qoy3Zyx-5Ebs"
      },
      "source": [
        "The identity matrix is often noted simply $I$ (instead of $I_n$) when its size is clear given the context. It is called the *identity* matrix because multiplying a matrix with it leaves the matrix unchanged as we will see below."
      ]
    },
    {
      "cell_type": "markdown",
      "metadata": {
        "id": "_q9CeXgv5Ebs"
      },
      "source": [
        "## Adding matrices\n",
        "If two matrices $Q$ and $R$ have the same size $m \\times n$, they can be added together. Addition is performed *elementwise*: the result is also a $m \\times n$ matrix $S$ where each element is the sum of the elements at the corresponding position: $S_{i,j} = Q_{i,j} + R_{i,j}$\n",
        "\n",
        "$S =\n",
        "\\begin{bmatrix}\n",
        "  Q_{1,1} + R_{1,1} & Q_{1,2} + R_{1,2} & Q_{1,3} + R_{1,3} & \\cdots & Q_{1,n} + R_{1,n} \\\\\n",
        "  Q_{2,1} + R_{2,1} & Q_{2,2} + R_{2,2} & Q_{2,3} + R_{2,3} & \\cdots & Q_{2,n} + R_{2,n}  \\\\\n",
        "  Q_{3,1} + R_{3,1} & Q_{3,2} + R_{3,2} & Q_{3,3} + R_{3,3} & \\cdots & Q_{3,n} + R_{3,n}  \\\\\n",
        "  \\vdots & \\vdots & \\vdots & \\ddots & \\vdots \\\\\n",
        "  Q_{m,1} + R_{m,1} & Q_{m,2} + R_{m,2} & Q_{m,3} + R_{m,3} & \\cdots & Q_{m,n} + R_{m,n}  \\\\\n",
        "\\end{bmatrix}$\n",
        "\n",
        "For example, let's create a $2 \\times 3$ matrix $B$ and compute $A + B$:"
      ]
    },
    {
      "cell_type": "code",
      "execution_count": null,
      "metadata": {
        "id": "lsYGskAv5Ebs"
      },
      "outputs": [],
      "source": [
        "B = np.array([[1,2,3], [4, 5, 6]])\n",
        "B"
      ]
    },
    {
      "cell_type": "code",
      "execution_count": null,
      "metadata": {
        "id": "HYG-pKtj5Ebs"
      },
      "outputs": [],
      "source": [
        "A"
      ]
    },
    {
      "cell_type": "code",
      "execution_count": null,
      "metadata": {
        "id": "Tc6z0gvh5Ebs"
      },
      "outputs": [],
      "source": [
        "A + B"
      ]
    },
    {
      "cell_type": "markdown",
      "metadata": {
        "id": "R6DIm5Uf5Ebs"
      },
      "source": [
        "**Addition is *commutative***, meaning that $A + B = B + A$:"
      ]
    },
    {
      "cell_type": "code",
      "execution_count": null,
      "metadata": {
        "id": "dt9oGdH05Ebs"
      },
      "outputs": [],
      "source": [
        "B + A"
      ]
    },
    {
      "cell_type": "markdown",
      "metadata": {
        "id": "kSh_rytE5Ebs"
      },
      "source": [
        "**It is also *associative***, meaning that $A + (B + C) = (A + B) + C$:"
      ]
    },
    {
      "cell_type": "code",
      "execution_count": null,
      "metadata": {
        "id": "-5wMWsRl5Ebt"
      },
      "outputs": [],
      "source": [
        "C = np.array([[100,200,300], [400, 500, 600]])\n",
        "\n",
        "A + (B + C)"
      ]
    },
    {
      "cell_type": "code",
      "execution_count": null,
      "metadata": {
        "id": "AUjKnXK15Ebt"
      },
      "outputs": [],
      "source": [
        "(A + B) + C"
      ]
    },
    {
      "cell_type": "markdown",
      "metadata": {
        "id": "LrXpHSUQ5Ebt"
      },
      "source": [
        "## Scalar multiplication\n",
        "A matrix $M$ can be multiplied by a scalar $\\lambda$. The result is noted $\\lambda M$, and it is a matrix of the same size as $M$ with all elements multiplied by $\\lambda$:\n",
        "\n",
        "$\\lambda M =\n",
        "\\begin{bmatrix}\n",
        "  \\lambda \\times M_{1,1} & \\lambda \\times M_{1,2} & \\lambda \\times M_{1,3} & \\cdots & \\lambda \\times M_{1,n} \\\\\n",
        "  \\lambda \\times M_{2,1} & \\lambda \\times M_{2,2} & \\lambda \\times M_{2,3} & \\cdots & \\lambda \\times M_{2,n} \\\\\n",
        "  \\lambda \\times M_{3,1} & \\lambda \\times M_{3,2} & \\lambda \\times M_{3,3} & \\cdots & \\lambda \\times M_{3,n} \\\\\n",
        "  \\vdots & \\vdots & \\vdots & \\ddots & \\vdots \\\\\n",
        "  \\lambda \\times M_{m,1} & \\lambda \\times M_{m,2} & \\lambda \\times M_{m,3} & \\cdots & \\lambda \\times M_{m,n} \\\\\n",
        "\\end{bmatrix}$\n",
        "\n",
        "A more concise way of writing this is:\n",
        "\n",
        "$(\\lambda M)_{i,j} = \\lambda (M)_{i,j}$\n",
        "\n",
        "In NumPy, simply use the `*` operator to multiply a matrix by a scalar. For example:"
      ]
    },
    {
      "cell_type": "code",
      "execution_count": null,
      "metadata": {
        "id": "YiRN76Ju5Ebt"
      },
      "outputs": [],
      "source": [
        "2 * A"
      ]
    },
    {
      "cell_type": "markdown",
      "metadata": {
        "id": "kV1LM9uX5Ebt"
      },
      "source": [
        "Scalar multiplication is also defined on the right hand side, and gives the same result: $M \\lambda = \\lambda M$. For example:"
      ]
    },
    {
      "cell_type": "code",
      "execution_count": null,
      "metadata": {
        "id": "8L_S6Zav5Ebt"
      },
      "outputs": [],
      "source": [
        "A * 2"
      ]
    },
    {
      "cell_type": "markdown",
      "metadata": {
        "id": "V7AYu-Q95Ebt"
      },
      "source": [
        "This makes scalar multiplication **commutative**.\n",
        "\n",
        "It is also **associative**, meaning that $\\alpha (\\beta M) = (\\alpha \\times \\beta) M$, where $\\alpha$ and $\\beta$ are scalars. For example:"
      ]
    },
    {
      "cell_type": "code",
      "execution_count": null,
      "metadata": {
        "id": "m6eQ_XXm5Ebt"
      },
      "outputs": [],
      "source": [
        "2 * (3 * A)"
      ]
    },
    {
      "cell_type": "code",
      "execution_count": null,
      "metadata": {
        "id": "yWwa5AII5Ebt"
      },
      "outputs": [],
      "source": [
        "(2 * 3) * A"
      ]
    },
    {
      "cell_type": "markdown",
      "metadata": {
        "id": "9P1gUwFr5Ebt"
      },
      "source": [
        "Finally, it is **distributive over addition** of matrices, meaning that $\\lambda (Q + R) = \\lambda Q + \\lambda R$:"
      ]
    },
    {
      "cell_type": "code",
      "execution_count": null,
      "metadata": {
        "id": "azLYbiJt5Ebu"
      },
      "outputs": [],
      "source": [
        "2 * (A + B)"
      ]
    },
    {
      "cell_type": "code",
      "execution_count": null,
      "metadata": {
        "id": "F7wLyqGb5Ebu"
      },
      "outputs": [],
      "source": [
        "2 * A + 2 * B"
      ]
    },
    {
      "cell_type": "markdown",
      "metadata": {
        "id": "KwbGCgPJ5Ebu"
      },
      "source": [
        "## Matrix multiplication\n",
        "So far, matrix operations have been rather intuitive. But multiplying matrices is a bit more involved.\n",
        "\n",
        "A matrix $Q$ of size $m \\times n$ can be multiplied by a matrix $R$ of size $n \\times q$. It is noted simply $QR$ without multiplication sign or dot. The result $P$ is an $m \\times q$ matrix where each element is computed as a sum of products:\n",
        "\n",
        "$P_{i,j} = \\sum_{k=1}^n{Q_{i,k} \\times R_{k,j}}$\n",
        "\n",
        "The element at position $i,j$ in the resulting matrix is the sum of the products of elements in row $i$ of matrix $Q$ by the elements in column $j$ of matrix $R$.\n",
        "\n",
        "$P =\n",
        "\\begin{bmatrix}\n",
        "Q_{1,1} R_{1,1} + Q_{1,2} R_{2,1} + \\cdots + Q_{1,n} R_{n,1} &\n",
        "  Q_{1,1} R_{1,2} + Q_{1,2} R_{2,2} + \\cdots + Q_{1,n} R_{n,2} &\n",
        "    \\cdots &\n",
        "      Q_{1,1} R_{1,q} + Q_{1,2} R_{2,q} + \\cdots + Q_{1,n} R_{n,q} \\\\\n",
        "Q_{2,1} R_{1,1} + Q_{2,2} R_{2,1} + \\cdots + Q_{2,n} R_{n,1} &\n",
        "  Q_{2,1} R_{1,2} + Q_{2,2} R_{2,2} + \\cdots + Q_{2,n} R_{n,2} &\n",
        "    \\cdots &\n",
        "      Q_{2,1} R_{1,q} + Q_{2,2} R_{2,q} + \\cdots + Q_{2,n} R_{n,q} \\\\\n",
        "  \\vdots & \\vdots & \\ddots & \\vdots \\\\\n",
        "Q_{m,1} R_{1,1} + Q_{m,2} R_{2,1} + \\cdots + Q_{m,n} R_{n,1} &\n",
        "  Q_{m,1} R_{1,2} + Q_{m,2} R_{2,2} + \\cdots + Q_{m,n} R_{n,2} &\n",
        "    \\cdots &\n",
        "      Q_{m,1} R_{1,q} + Q_{m,2} R_{2,q} + \\cdots + Q_{m,n} R_{n,q}\n",
        "\\end{bmatrix}$\n",
        "\n",
        "You may notice that each element $P_{i,j}$ is the dot product of the row vector $Q_{i,*}$ and the column vector $R_{*,j}$:\n",
        "\n",
        "$P_{i,j} = Q_{i,*} \\cdot R_{*,j}$\n",
        "\n",
        "So we can rewrite $P$ more concisely as:\n",
        "\n",
        "$P =\n",
        "\\begin{bmatrix}\n",
        "Q_{1,*} \\cdot R_{*,1} & Q_{1,*} \\cdot R_{*,2} & \\cdots & Q_{1,*} \\cdot R_{*,q} \\\\\n",
        "Q_{2,*} \\cdot R_{*,1} & Q_{2,*} \\cdot R_{*,2} & \\cdots & Q_{2,*} \\cdot R_{*,q} \\\\\n",
        "\\vdots & \\vdots & \\ddots & \\vdots \\\\\n",
        "Q_{m,*} \\cdot R_{*,1} & Q_{m,*} \\cdot R_{*,2} & \\cdots & Q_{m,*} \\cdot R_{*,q}\n",
        "\\end{bmatrix}$\n"
      ]
    },
    {
      "cell_type": "markdown",
      "metadata": {
        "id": "NGnwesEN5Ebu"
      },
      "source": [
        "Let's multiply two matrices in NumPy, using `ndarray`'s `dot` method:\n",
        "\n",
        "$E = AD = \\begin{bmatrix}\n",
        "  10 & 20 & 30 \\\\\n",
        "  40 & 50 & 60\n",
        "\\end{bmatrix}\n",
        "\\begin{bmatrix}\n",
        "  2 & 3 & 5 & 7 \\\\\n",
        "  11 & 13 & 17 & 19 \\\\\n",
        "  23 & 29 & 31 & 37\n",
        "\\end{bmatrix} =\n",
        "\\begin{bmatrix}\n",
        "  930 & 1160 & 1320 & 1560 \\\\\n",
        "  2010 & 2510 & 2910 & 3450\n",
        "\\end{bmatrix}$"
      ]
    },
    {
      "cell_type": "code",
      "execution_count": null,
      "metadata": {
        "id": "6KH_Dh6C5Ebu"
      },
      "outputs": [],
      "source": [
        "D = np.array([\n",
        "        [ 2,  3,  5,  7],\n",
        "        [11, 13, 17, 19],\n",
        "        [23, 29, 31, 37]\n",
        "    ])\n",
        "E = A.dot(D)\n",
        "E"
      ]
    },
    {
      "cell_type": "markdown",
      "metadata": {
        "id": "uto8m02q5Ebu"
      },
      "source": [
        "Let's check this result by looking at one element, just to be sure: looking at $E_{2,3}$ for example, we need to multiply elements in $A$'s $2^{nd}$ row by elements in $D$'s $3^{rd}$ column, and sum up these products:"
      ]
    },
    {
      "cell_type": "code",
      "execution_count": null,
      "metadata": {
        "id": "CpWxdWUh5Ebu"
      },
      "outputs": [],
      "source": [
        "40*5 + 50*17 + 60*31"
      ]
    },
    {
      "cell_type": "code",
      "execution_count": null,
      "metadata": {
        "id": "D_HsmDy45Ebu"
      },
      "outputs": [],
      "source": [
        "E[1,2]  # row 2, column 3"
      ]
    },
    {
      "cell_type": "markdown",
      "metadata": {
        "id": "puBixnWJ5Ebu"
      },
      "source": [
        "Looks good! You can check the other elements until you get used to the algorithm.\n",
        "\n",
        "We multiplied a $2 \\times 3$ matrix by a $3 \\times 4$ matrix, so the result is a $2 \\times 4$ matrix. The first matrix's number of columns has to be equal to the second matrix's number of rows. If we try to multiple $D$ by $A$, we get an error because D has 4 columns while A has 2 rows:"
      ]
    },
    {
      "cell_type": "code",
      "execution_count": null,
      "metadata": {
        "id": "MMDi7UxV5Ebu"
      },
      "outputs": [],
      "source": [
        "try:\n",
        "    D.dot(A)\n",
        "except ValueError as e:\n",
        "    print(\"ValueError:\", e)"
      ]
    },
    {
      "cell_type": "markdown",
      "metadata": {
        "id": "Y-lvpqoJ5Ebu"
      },
      "source": [
        "This illustrates the fact that **matrix multiplication is *NOT* commutative**: in general $QR ≠ RQ$\n",
        "\n",
        "In fact, $QR$ and $RQ$ are only *both* defined if $Q$ has size $m \\times n$ and $R$ has size $n \\times m$. Let's look at an example where both *are* defined and show that they are (in general) *NOT* equal:"
      ]
    },
    {
      "cell_type": "code",
      "execution_count": null,
      "metadata": {
        "id": "nTQKl1fQ5Ebv"
      },
      "outputs": [],
      "source": [
        "F = np.array([\n",
        "        [5,2],\n",
        "        [4,1],\n",
        "        [9,3]\n",
        "    ])\n",
        "A.dot(F)"
      ]
    },
    {
      "cell_type": "code",
      "execution_count": null,
      "metadata": {
        "id": "sutkt6ia5Ebv"
      },
      "outputs": [],
      "source": [
        "F.dot(A)"
      ]
    },
    {
      "cell_type": "markdown",
      "metadata": {
        "id": "vNtuOUg35Ebv"
      },
      "source": [
        "On the other hand, **matrix multiplication *is* associative**, meaning that $Q(RS) = (QR)S$. Let's create a $4 \\times 5$ matrix $G$ to illustrate this:"
      ]
    },
    {
      "cell_type": "code",
      "execution_count": null,
      "metadata": {
        "id": "3-6MgBiG5Ebv"
      },
      "outputs": [],
      "source": [
        "G = np.array([\n",
        "        [8,  7,  4,  2,  5],\n",
        "        [2,  5,  1,  0,  5],\n",
        "        [9, 11, 17, 21,  0],\n",
        "        [0,  1,  0,  1,  2]])\n",
        "A.dot(D).dot(G)     # (AB)G"
      ]
    },
    {
      "cell_type": "code",
      "execution_count": null,
      "metadata": {
        "id": "S0rd9ZL85Ebv"
      },
      "outputs": [],
      "source": [
        "A.dot(D.dot(G))     # A(BG)"
      ]
    },
    {
      "cell_type": "markdown",
      "metadata": {
        "id": "00yPmKgx5Ebv"
      },
      "source": [
        "It is also ***distributive* over addition** of matrices, meaning that $(Q + R)S = QS + RS$. For example:"
      ]
    },
    {
      "cell_type": "code",
      "execution_count": null,
      "metadata": {
        "id": "r7fGYUHd5Ebv"
      },
      "outputs": [],
      "source": [
        "(A + B).dot(D)"
      ]
    },
    {
      "cell_type": "code",
      "execution_count": null,
      "metadata": {
        "id": "vypIMUH05Ebv"
      },
      "outputs": [],
      "source": [
        "A.dot(D) + B.dot(D)"
      ]
    },
    {
      "cell_type": "markdown",
      "metadata": {
        "id": "w2Y77n-_5Ebv"
      },
      "source": [
        "The product of a matrix $M$ by the identity matrix (of matching size) results in the same matrix $M$. More formally, if $M$ is an $m \\times n$ matrix, then:\n",
        "\n",
        "$M I_n = I_m M = M$\n",
        "\n",
        "This is generally written more concisely (since the size of the identity matrices is unambiguous given the context):\n",
        "\n",
        "$MI = IM = M$\n",
        "\n",
        "For example:"
      ]
    },
    {
      "cell_type": "code",
      "execution_count": null,
      "metadata": {
        "id": "hatDSDvZ5Ebv"
      },
      "outputs": [],
      "source": [
        "A.dot(np.eye(3))"
      ]
    },
    {
      "cell_type": "code",
      "execution_count": null,
      "metadata": {
        "id": "aF3PnsrJ5Ebw"
      },
      "outputs": [],
      "source": [
        "np.eye(2).dot(A)"
      ]
    },
    {
      "cell_type": "markdown",
      "metadata": {
        "id": "BqTqI8QK5Ebw"
      },
      "source": [
        "**Caution**: NumPy's `*` operator performs elementwise multiplication, *NOT* a matrix multiplication:"
      ]
    },
    {
      "cell_type": "code",
      "execution_count": null,
      "metadata": {
        "scrolled": true,
        "id": "EpCERlo25Ebw"
      },
      "outputs": [],
      "source": [
        "A * B   # NOT a matrix multiplication"
      ]
    },
    {
      "cell_type": "markdown",
      "metadata": {
        "id": "EYx1RsmU5Ebw"
      },
      "source": [
        "## Matrix transpose\n",
        "The transpose of a matrix $M$ is a matrix noted $M^T$ such that the $i^{th}$ row in $M^T$ is equal to the $i^{th}$ column in $M$:\n",
        "\n",
        "$ A^T =\n",
        "\\begin{bmatrix}\n",
        "  10 & 20 & 30 \\\\\n",
        "  40 & 50 & 60\n",
        "\\end{bmatrix}^T =\n",
        "\\begin{bmatrix}\n",
        "  10 & 40 \\\\\n",
        "  20 & 50 \\\\\n",
        "  30 & 60\n",
        "\\end{bmatrix}$\n",
        "\n",
        "In other words, ($A^T)_{i,j}$ = $A_{j,i}$\n",
        "\n",
        "Obviously, if $M$ is an $m \\times n$ matrix, then $M^T$ is an $n \\times m$ matrix.\n",
        "\n",
        "Note: there are a few other notations, such as $M^t$, $M′$, or ${^t}M$.\n",
        "\n",
        "In NumPy, a matrix's transpose can be obtained simply using the `T` attribute:"
      ]
    },
    {
      "cell_type": "code",
      "execution_count": null,
      "metadata": {
        "id": "WF02qekR5Ebw"
      },
      "outputs": [],
      "source": [
        "A"
      ]
    },
    {
      "cell_type": "code",
      "execution_count": null,
      "metadata": {
        "id": "CEsZpwN45Ebw"
      },
      "outputs": [],
      "source": [
        "A.T"
      ]
    },
    {
      "cell_type": "markdown",
      "metadata": {
        "id": "zvaCll5z5Ebw"
      },
      "source": [
        "As you might expect, transposing a matrix twice returns the original matrix:"
      ]
    },
    {
      "cell_type": "code",
      "execution_count": null,
      "metadata": {
        "id": "0z0mMFd75Ebw"
      },
      "outputs": [],
      "source": [
        "A.T.T"
      ]
    },
    {
      "cell_type": "markdown",
      "metadata": {
        "id": "PtmAfOEj5Ebx"
      },
      "source": [
        "Transposition is distributive over addition of matrices, meaning that $(Q + R)^T = Q^T + R^T$. For example:"
      ]
    },
    {
      "cell_type": "code",
      "execution_count": null,
      "metadata": {
        "id": "EznB_9Hp5Ebx"
      },
      "outputs": [],
      "source": [
        "(A + B).T"
      ]
    },
    {
      "cell_type": "code",
      "execution_count": null,
      "metadata": {
        "id": "0guU1P6x5Ebx"
      },
      "outputs": [],
      "source": [
        "A.T + B.T"
      ]
    },
    {
      "cell_type": "markdown",
      "metadata": {
        "id": "z2KGQh645Ebx"
      },
      "source": [
        "Moreover, $(Q \\cdot R)^T = R^T \\cdot Q^T$. Note that the order is reversed. For example:"
      ]
    },
    {
      "cell_type": "code",
      "execution_count": null,
      "metadata": {
        "id": "xKZx9vo85Ebx"
      },
      "outputs": [],
      "source": [
        "(A.dot(D)).T"
      ]
    },
    {
      "cell_type": "code",
      "execution_count": null,
      "metadata": {
        "id": "gVxJH6QS5Ebx"
      },
      "outputs": [],
      "source": [
        "D.T.dot(A.T)"
      ]
    },
    {
      "cell_type": "markdown",
      "metadata": {
        "id": "joxNgzcw5Ebx"
      },
      "source": [
        "A **symmetric matrix** $M$ is defined as a matrix that is equal to its transpose: $M^T = M$. This definition implies that it must be a square matrix whose elements are symmetric relative to the main diagonal, for example:\n",
        "\n",
        "\\begin{bmatrix}\n",
        "  17 & 22 & 27 & 49 \\\\\n",
        "  22 & 29 & 36 & 0 \\\\\n",
        "  27 & 36 & 45 & 2 \\\\\n",
        "  49 & 0 & 2 & 99\n",
        "\\end{bmatrix}\n",
        "\n",
        "The product of a matrix by its transpose is always a symmetric matrix, for example:"
      ]
    },
    {
      "cell_type": "code",
      "execution_count": null,
      "metadata": {
        "id": "1i3h_rWb5Ebx"
      },
      "outputs": [],
      "source": [
        "D.dot(D.T)"
      ]
    },
    {
      "cell_type": "markdown",
      "metadata": {
        "collapsed": true,
        "id": "N7Fkeflm5Ebx"
      },
      "source": [
        "## Converting 1D arrays to 2D arrays in NumPy\n",
        "As we mentionned earlier, in NumPy (as opposed to Matlab, for example), 1D really means 1D: there is no such thing as a vertical 1D-array or a horizontal 1D-array. So you should not be surprised to see that transposing a 1D array does not do anything:"
      ]
    },
    {
      "cell_type": "code",
      "execution_count": null,
      "metadata": {
        "id": "1I6Th5yr5Ebx"
      },
      "outputs": [],
      "source": [
        "u"
      ]
    },
    {
      "cell_type": "code",
      "execution_count": null,
      "metadata": {
        "id": "YPM55_yY5Ebx"
      },
      "outputs": [],
      "source": [
        "u.T"
      ]
    },
    {
      "cell_type": "markdown",
      "metadata": {
        "id": "0BTkGXld5Ebx"
      },
      "source": [
        "We want to convert $\\textbf{u}$ into a row vector before transposing it. There are a few ways to do this:"
      ]
    },
    {
      "cell_type": "code",
      "execution_count": null,
      "metadata": {
        "id": "piCCyrOD5Eby"
      },
      "outputs": [],
      "source": [
        "u_row = np.array([u])\n",
        "u_row"
      ]
    },
    {
      "cell_type": "markdown",
      "metadata": {
        "id": "WqznO4EU5Eby"
      },
      "source": [
        "Notice the extra square brackets: this is a 2D array with just one row (ie. a 1x2 matrix). In other words it really is a **row vector**."
      ]
    },
    {
      "cell_type": "markdown",
      "source": [
        "OK, now that we have an actual row vector, let's see if we can take its transpose."
      ],
      "metadata": {
        "id": "f8Mw1pv7O41Q"
      }
    },
    {
      "cell_type": "code",
      "source": [
        "u_row.T"
      ],
      "metadata": {
        "id": "eIXJmQdlO9-x"
      },
      "execution_count": null,
      "outputs": []
    },
    {
      "cell_type": "markdown",
      "metadata": {
        "id": "dkmssKDL5Eby"
      },
      "source": [
        "Great! We now have a nice **column vector**."
      ]
    },
    {
      "cell_type": "markdown",
      "source": [
        "##Matrix Multiplication and Linear Transformations"
      ],
      "metadata": {
        "id": "iyb3ZXgcPL_K"
      }
    },
    {
      "cell_type": "markdown",
      "source": [
        "So, why does matrix multiplication work the way it does? Well, the idea is that a matrix represents a *linear transformation*, which is a function from vectors to vectors that obeys the following relation:\n",
        "\n",
        "<center>\n",
        "  $T(a\\textbf{x} + b\\textbf{y}) = aT(\\textbf{x}) + bT(\\textbf{y})$\n",
        "</center>\n",
        "\n",
        "This relation is called *linearity*. It turns out that, if you pick a basis for a vector space, then any linear transformation can be represented as a matrix, and any matrix represents a linear transformation. They're different views on the same thing.\n",
        "\n",
        "There are, of course, full courses on linear algebra that explore this idea in depth. Unfortunately, we don't have time to do this today, but I'll just point out that the composition of two linear transformations $U \\circ T$, corresponds with mutliplying their corresponding matrices $UT$. So, that's why we multiply them the way we do - it's because it corresponds with composing linear transformations."
      ],
      "metadata": {
        "id": "FfuCrAkYPhUv"
      }
    },
    {
      "cell_type": "markdown",
      "source": [
        "##References"
      ],
      "metadata": {
        "id": "uFpi0vjKSRvN"
      }
    },
    {
      "cell_type": "markdown",
      "source": [
        "There are a lot of great online linear algebra references. I'll point out two popular ones:\n",
        "\n",
        "* 3blue1brown has a *great* series of videos on linear algebra [here](https://www.3blue1brown.com/topics/linear-algebra).\n",
        "* Gilbert Strang's famous MIT linear algebra course has video recordings [here](https://ocw.mit.edu/courses/18-06-linear-algebra-spring-2010/video_galleries/video-lectures/)"
      ],
      "metadata": {
        "id": "r0t5TSMDSU4E"
      }
    }
  ]
}